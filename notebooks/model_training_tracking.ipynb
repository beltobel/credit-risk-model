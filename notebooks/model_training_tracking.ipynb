{
  "nbformat": 4,
  "nbformat_minor": 0,
  "metadata": {
    "colab": {
      "provenance": [],
      "gpuType": "T4"
    },
    "kernelspec": {
      "name": "python3",
      "display_name": "Python 3"
    },
    "language_info": {
      "name": "python"
    },
    "accelerator": "GPU"
  },
  "cells": [
    {
      "cell_type": "code",
      "source": [
        "# Install requirements (run in Colab cell)\n",
        "!pip install mlflow pytest scikit-learn --quiet\n"
      ],
      "metadata": {
        "colab": {
          "base_uri": "https://localhost:8080/"
        },
        "id": "bsUKFnqHTWVu",
        "outputId": "d3e0847a-78e6-452e-c5de-5364cd1ca035"
      },
      "execution_count": 1,
      "outputs": [
        {
          "output_type": "stream",
          "name": "stdout",
          "text": [
            "\u001b[2K   \u001b[90m━━━━━━━━━━━━━━━━━━━━━━━━━━━━━━━━━━━━━━━━\u001b[0m \u001b[32m24.7/24.7 MB\u001b[0m \u001b[31m51.6 MB/s\u001b[0m eta \u001b[36m0:00:00\u001b[0m\n",
            "\u001b[2K   \u001b[90m━━━━━━━━━━━━━━━━━━━━━━━━━━━━━━━━━━━━━━━━\u001b[0m \u001b[32m1.9/1.9 MB\u001b[0m \u001b[31m34.2 MB/s\u001b[0m eta \u001b[36m0:00:00\u001b[0m\n",
            "\u001b[2K   \u001b[90m━━━━━━━━━━━━━━━━━━━━━━━━━━━━━━━━━━━━━━━━\u001b[0m \u001b[32m242.7/242.7 kB\u001b[0m \u001b[31m16.4 MB/s\u001b[0m eta \u001b[36m0:00:00\u001b[0m\n",
            "\u001b[2K   \u001b[90m━━━━━━━━━━━━━━━━━━━━━━━━━━━━━━━━━━━━━━━━\u001b[0m \u001b[32m147.8/147.8 kB\u001b[0m \u001b[31m9.8 MB/s\u001b[0m eta \u001b[36m0:00:00\u001b[0m\n",
            "\u001b[2K   \u001b[90m━━━━━━━━━━━━━━━━━━━━━━━━━━━━━━━━━━━━━━━━\u001b[0m \u001b[32m114.9/114.9 kB\u001b[0m \u001b[31m4.8 MB/s\u001b[0m eta \u001b[36m0:00:00\u001b[0m\n",
            "\u001b[2K   \u001b[90m━━━━━━━━━━━━━━━━━━━━━━━━━━━━━━━━━━━━━━━━\u001b[0m \u001b[32m85.0/85.0 kB\u001b[0m \u001b[31m5.9 MB/s\u001b[0m eta \u001b[36m0:00:00\u001b[0m\n",
            "\u001b[2K   \u001b[90m━━━━━━━━━━━━━━━━━━━━━━━━━━━━━━━━━━━━━━━━\u001b[0m \u001b[32m733.8/733.8 kB\u001b[0m \u001b[31m39.9 MB/s\u001b[0m eta \u001b[36m0:00:00\u001b[0m\n",
            "\u001b[2K   \u001b[90m━━━━━━━━━━━━━━━━━━━━━━━━━━━━━━━━━━━━━━━━\u001b[0m \u001b[32m203.4/203.4 kB\u001b[0m \u001b[31m15.2 MB/s\u001b[0m eta \u001b[36m0:00:00\u001b[0m\n",
            "\u001b[2K   \u001b[90m━━━━━━━━━━━━━━━━━━━━━━━━━━━━━━━━━━━━━━━━\u001b[0m \u001b[32m65.8/65.8 kB\u001b[0m \u001b[31m4.4 MB/s\u001b[0m eta \u001b[36m0:00:00\u001b[0m\n",
            "\u001b[2K   \u001b[90m━━━━━━━━━━━━━━━━━━━━━━━━━━━━━━━━━━━━━━━━\u001b[0m \u001b[32m118.5/118.5 kB\u001b[0m \u001b[31m7.0 MB/s\u001b[0m eta \u001b[36m0:00:00\u001b[0m\n",
            "\u001b[2K   \u001b[90m━━━━━━━━━━━━━━━━━━━━━━━━━━━━━━━━━━━━━━━━\u001b[0m \u001b[32m196.2/196.2 kB\u001b[0m \u001b[31m14.2 MB/s\u001b[0m eta \u001b[36m0:00:00\u001b[0m\n",
            "\u001b[?25h"
          ]
        }
      ]
    },
    {
      "cell_type": "code",
      "source": [
        "!pip install mlflow --quiet"
      ],
      "metadata": {
        "colab": {
          "base_uri": "https://localhost:8080/"
        },
        "id": "KfDU5OaWUYT7",
        "outputId": "0024aa7b-84f8-4b08-d393-e4160d5a7c17"
      },
      "execution_count": 3,
      "outputs": [
        {
          "output_type": "stream",
          "name": "stdout",
          "text": [
            "\u001b[2K   \u001b[90m━━━━━━━━━━━━━━━━━━━━━━━━━━━━━━━━━━━━━━━━\u001b[0m \u001b[32m24.7/24.7 MB\u001b[0m \u001b[31m97.8 MB/s\u001b[0m eta \u001b[36m0:00:00\u001b[0m\n",
            "\u001b[2K   \u001b[90m━━━━━━━━━━━━━━━━━━━━━━━━━━━━━━━━━━━━━━━━\u001b[0m \u001b[32m1.9/1.9 MB\u001b[0m \u001b[31m77.8 MB/s\u001b[0m eta \u001b[36m0:00:00\u001b[0m\n",
            "\u001b[2K   \u001b[90m━━━━━━━━━━━━━━━━━━━━━━━━━━━━━━━━━━━━━━━━\u001b[0m \u001b[32m242.7/242.7 kB\u001b[0m \u001b[31m23.5 MB/s\u001b[0m eta \u001b[36m0:00:00\u001b[0m\n",
            "\u001b[2K   \u001b[90m━━━━━━━━━━━━━━━━━━━━━━━━━━━━━━━━━━━━━━━━\u001b[0m \u001b[32m147.8/147.8 kB\u001b[0m \u001b[31m11.3 MB/s\u001b[0m eta \u001b[36m0:00:00\u001b[0m\n",
            "\u001b[2K   \u001b[90m━━━━━━━━━━━━━━━━━━━━━━━━━━━━━━━━━━━━━━━━\u001b[0m \u001b[32m114.9/114.9 kB\u001b[0m \u001b[31m11.5 MB/s\u001b[0m eta \u001b[36m0:00:00\u001b[0m\n",
            "\u001b[2K   \u001b[90m━━━━━━━━━━━━━━━━━━━━━━━━━━━━━━━━━━━━━━━━\u001b[0m \u001b[32m85.0/85.0 kB\u001b[0m \u001b[31m7.7 MB/s\u001b[0m eta \u001b[36m0:00:00\u001b[0m\n",
            "\u001b[2K   \u001b[90m━━━━━━━━━━━━━━━━━━━━━━━━━━━━━━━━━━━━━━━━\u001b[0m \u001b[32m733.8/733.8 kB\u001b[0m \u001b[31m46.4 MB/s\u001b[0m eta \u001b[36m0:00:00\u001b[0m\n",
            "\u001b[2K   \u001b[90m━━━━━━━━━━━━━━━━━━━━━━━━━━━━━━━━━━━━━━━━\u001b[0m \u001b[32m203.4/203.4 kB\u001b[0m \u001b[31m18.2 MB/s\u001b[0m eta \u001b[36m0:00:00\u001b[0m\n",
            "\u001b[2K   \u001b[90m━━━━━━━━━━━━━━━━━━━━━━━━━━━━━━━━━━━━━━━━\u001b[0m \u001b[32m65.8/65.8 kB\u001b[0m \u001b[31m6.3 MB/s\u001b[0m eta \u001b[36m0:00:00\u001b[0m\n",
            "\u001b[2K   \u001b[90m━━━━━━━━━━━━━━━━━━━━━━━━━━━━━━━━━━━━━━━━\u001b[0m \u001b[32m118.5/118.5 kB\u001b[0m \u001b[31m11.1 MB/s\u001b[0m eta \u001b[36m0:00:00\u001b[0m\n",
            "\u001b[2K   \u001b[90m━━━━━━━━━━━━━━━━━━━━━━━━━━━━━━━━━━━━━━━━\u001b[0m \u001b[32m196.2/196.2 kB\u001b[0m \u001b[31m19.4 MB/s\u001b[0m eta \u001b[36m0:00:00\u001b[0m\n",
            "\u001b[?25h"
          ]
        }
      ]
    },
    {
      "cell_type": "code",
      "source": [
        "# For Google Colab: Mount Google Drive\n",
        "from google.colab import drive\n",
        "drive.mount('/content/drive', force_remount=True)"
      ],
      "metadata": {
        "colab": {
          "base_uri": "https://localhost:8080/"
        },
        "id": "YxZiijDZT1m-",
        "outputId": "bf0ceb01-0743-4bf2-f19f-220f927f6405"
      },
      "execution_count": 6,
      "outputs": [
        {
          "output_type": "stream",
          "name": "stdout",
          "text": [
            "Mounted at /content/drive\n"
          ]
        }
      ]
    },
    {
      "cell_type": "code",
      "execution_count": 8,
      "metadata": {
        "colab": {
          "base_uri": "https://localhost:8080/",
          "height": 316
        },
        "id": "K8-Hdm9gS10z",
        "outputId": "b3814732-eb3f-4418-a69a-b7f45c5a46a4"
      },
      "outputs": [
        {
          "output_type": "stream",
          "name": "stderr",
          "text": [
            "2025/07/01 19:15:17 WARNING mlflow.models.model: `artifact_path` is deprecated. Please use `name` instead.\n",
            "\u001b[31m2025/07/01 19:15:21 WARNING mlflow.models.model: Model logged without a signature and input example. Please set `input_example` parameter when logging the model to auto infer the model signature.\u001b[0m\n",
            "2025/07/01 19:17:28 WARNING mlflow.models.model: `artifact_path` is deprecated. Please use `name` instead.\n",
            "\u001b[31m2025/07/01 19:17:31 WARNING mlflow.models.model: Model logged without a signature and input example. Please set `input_example` parameter when logging the model to auto infer the model signature.\u001b[0m\n",
            "2025/07/01 19:17:31 WARNING mlflow.models.model: `artifact_path` is deprecated. Please use `name` instead.\n",
            "\u001b[31m2025/07/01 19:17:34 WARNING mlflow.models.model: Model logged without a signature and input example. Please set `input_example` parameter when logging the model to auto infer the model signature.\u001b[0m\n",
            "Successfully registered model 'CreditRiskBestModel'.\n",
            "2025/07/01 19:17:34 WARNING mlflow.tracking._model_registry.fluent: Run with id 8cff2190e7c640e6821108321f742034 has no artifacts at artifact path 'best_model', registering model based on models:/m-c01ae6297f1640aa94d901e12b9a7462 instead\n"
          ]
        },
        {
          "output_type": "stream",
          "name": "stdout",
          "text": [
            "Best model: logistic_regression with params: {'C': 0.1} and F1: 1.0000\n"
          ]
        },
        {
          "output_type": "stream",
          "name": "stderr",
          "text": [
            "Created version '1' of model 'CreditRiskBestModel'.\n"
          ]
        },
        {
          "output_type": "execute_result",
          "data": {
            "text/plain": [
              "\"\\nimport pytest\\nimport pandas as pd\\nfrom your_module import customer_aggregator  # adjust import as needed\\n\\ndef test_customer_aggregator_sum():\\n    df = pd.DataFrame({\\n        'CustomerId': [1, 1, 2],\\n        'Amount': [10, 20, 30],\\n        'TransactionId': [100, 101, 102]\\n    })\\n    customer_aggregator(df, fit=True)\\n    result = customer_aggregator(df)\\n    assert 'Total_Transaction_Amount' in result.columns\\n    assert result[result['CustomerId'] == 1]['Total_Transaction_Amount'].iloc[0] == 30\\n\\ndef test_customer_aggregator_unique_transactions():\\n    df = pd.DataFrame({\\n        'CustomerId': [1, 1, 2],\\n        'Amount': [10, 20, 30],\\n        'TransactionId': [100, 101, 102]\\n    })\\n    customer_aggregator(df, fit=True)\\n    result = customer_aggregator(df)\\n    assert 'Unique_Transaction_Count' in result.columns\\n    assert result[result['CustomerId'] == 1]['Unique_Transaction_Count'].iloc[0] == 2\\n\""
            ],
            "application/vnd.google.colaboratory.intrinsic+json": {
              "type": "string"
            }
          },
          "metadata": {},
          "execution_count": 8
        }
      ],
      "source": [
        "\n",
        "import pandas as pd\n",
        "import numpy as np\n",
        "from sklearn.model_selection import train_test_split, GridSearchCV\n",
        "from sklearn.linear_model import LogisticRegression\n",
        "from sklearn.ensemble import RandomForestClassifier\n",
        "from sklearn.metrics import (\n",
        "    accuracy_score, precision_score, recall_score, f1_score, roc_auc_score\n",
        ")\n",
        "import mlflow\n",
        "import mlflow.sklearn\n",
        "\n",
        "# --- Load processed data ---\n",
        "processed_df = pd.read_csv(\"/content/drive/My Drive/kifiya5/processed_data.csv\")\n",
        "\n",
        "# --- Fix: Only use numeric, non-ID features for X ---\n",
        "drop_cols = ['CustomerId', 'TransactionId', 'TransactionStartTime', 'Cluster']\n",
        "X = processed_df.drop(drop_cols + ['is_high_risk'], axis=1, errors='ignore')\n",
        "X = X.select_dtypes(include=[np.number])\n",
        "y = processed_df['is_high_risk']\n",
        "\n",
        "# --- Split data ---\n",
        "X_train, X_test, y_train, y_test = train_test_split(\n",
        "    X, y, test_size=0.2, random_state=42, stratify=y\n",
        ")\n",
        "\n",
        "# --- Define models and hyperparameters ---\n",
        "models = {\n",
        "    \"logistic_regression\": (\n",
        "        LogisticRegression(max_iter=1000, random_state=42),\n",
        "        {\"C\": [0.1, 1, 10]}\n",
        "    ),\n",
        "    \"random_forest\": (\n",
        "        RandomForestClassifier(random_state=42),\n",
        "        {\"n_estimators\": [50, 100], \"max_depth\": [5, 10]}\n",
        "    )\n",
        "}\n",
        "\n",
        "best_score = 0\n",
        "best_model = None\n",
        "best_model_name = \"\"\n",
        "best_params = None\n",
        "\n",
        "mlflow.set_experiment(\"credit-risk-model\")\n",
        "\n",
        "for model_name, (model, params) in models.items():\n",
        "    with mlflow.start_run(run_name=model_name):\n",
        "        clf = GridSearchCV(model, params, scoring='f1', cv=3, n_jobs=-1)\n",
        "        clf.fit(X_train, y_train)\n",
        "        y_pred = clf.predict(X_test)\n",
        "        y_proba = clf.predict_proba(X_test)[:, 1] if hasattr(clf, \"predict_proba\") else None\n",
        "\n",
        "        # Metrics\n",
        "        acc = accuracy_score(y_test, y_pred)\n",
        "        prec = precision_score(y_test, y_pred)\n",
        "        rec = recall_score(y_test, y_pred)\n",
        "        f1 = f1_score(y_test, y_pred)\n",
        "        roc_auc = roc_auc_score(y_test, y_proba) if y_proba is not None else np.nan\n",
        "\n",
        "        # Log metrics and params\n",
        "        mlflow.log_params(clf.best_params_)\n",
        "        mlflow.log_metrics({\n",
        "            \"accuracy\": acc,\n",
        "            \"precision\": prec,\n",
        "            \"recall\": rec,\n",
        "            \"f1_score\": f1,\n",
        "            \"roc_auc\": roc_auc\n",
        "        })\n",
        "        mlflow.sklearn.log_model(clf.best_estimator_, model_name)\n",
        "\n",
        "        # Track best model\n",
        "        if f1 > best_score:\n",
        "            best_score = f1\n",
        "            best_model = clf.best_estimator_\n",
        "            best_model_name = model_name\n",
        "            best_params = clf.best_params_\n",
        "\n",
        "# --- Register the best model ---\n",
        "with mlflow.start_run(run_name=\"register_best_model\"):\n",
        "    mlflow.sklearn.log_model(best_model, \"best_model\")\n",
        "    mlflow.register_model(\n",
        "        \"runs:/{}/best_model\".format(mlflow.active_run().info.run_id),\n",
        "        \"CreditRiskBestModel\"\n",
        "    )\n",
        "\n",
        "print(f\"Best model: {best_model_name} with params: {best_params} and F1: {best_score:.4f}\")\n",
        "\n",
        "# 3. Example Unit Tests\n",
        "\"\"\"\n",
        "import pytest\n",
        "import pandas as pd\n",
        "from your_module import customer_aggregator  # adjust import as needed\n",
        "\n",
        "def test_customer_aggregator_sum():\n",
        "    df = pd.DataFrame({\n",
        "        'CustomerId': [1, 1, 2],\n",
        "        'Amount': [10, 20, 30],\n",
        "        'TransactionId': [100, 101, 102]\n",
        "    })\n",
        "    customer_aggregator(df, fit=True)\n",
        "    result = customer_aggregator(df)\n",
        "    assert 'Total_Transaction_Amount' in result.columns\n",
        "    assert result[result['CustomerId'] == 1]['Total_Transaction_Amount'].iloc[0] == 30\n",
        "\n",
        "def test_customer_aggregator_unique_transactions():\n",
        "    df = pd.DataFrame({\n",
        "        'CustomerId': [1, 1, 2],\n",
        "        'Amount': [10, 20, 30],\n",
        "        'TransactionId': [100, 101, 102]\n",
        "    })\n",
        "    customer_aggregator(df, fit=True)\n",
        "    result = customer_aggregator(df)\n",
        "    assert 'Unique_Transaction_Count' in result.columns\n",
        "    assert result[result['CustomerId'] == 1]['Unique_Transaction_Count'].iloc[0] == 2\n",
        "\"\"\""
      ]
    },
    {
      "cell_type": "code",
      "source": [],
      "metadata": {
        "id": "m9ZCfcuoTsdn"
      },
      "execution_count": null,
      "outputs": []
    }
  ]
}